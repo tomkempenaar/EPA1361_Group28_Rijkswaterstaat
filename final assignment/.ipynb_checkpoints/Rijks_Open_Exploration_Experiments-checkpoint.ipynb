{
 "cells": [
  {
   "cell_type": "markdown",
   "metadata": {},
   "source": [
    "## Open Exploration Rijkswaterstaat Random Sampling, Experiments Notebook\n",
    "\n",
    "This notebook runs experiments for random sampling for the problem formulation 3 of Rijkswaterstaat. The results are analysed in the notebook Rijks_Open_exploration_Analysis.ipynb\n",
    "\n",
    "***\n",
    "\n",
    "**Content**\n",
    "1. Importing packages\n",
    "2. Create dike_model for the Rijkswaterstaat with problem formulation 2\n",
    "\n",
    "***\n",
    "\n",
    "### 1 | Importing packages\n",
    "\n",
    "Start with importing the packages that are needed to complete the open exlporation. This includes more general packages and more specific packages from, for instance, the EMA workbench.\n",
    "\n",
    "***"
   ]
  },
  {
   "cell_type": "code",
   "execution_count": 5,
   "metadata": {},
   "outputs": [],
   "source": [
    "#import necessary packages\n",
    "import numpy as np\n",
    "import scipy as sp\n",
    "import pandas as pd\n",
    "import matplotlib.pyplot as plt\n",
    "import seaborn as sns\n",
    "import networkx as nx\n",
    "import altair as alt"
   ]
  },
  {
   "cell_type": "code",
   "execution_count": 6,
   "metadata": {},
   "outputs": [],
   "source": [
    "#import necessary packages, functions\n",
    "from ema_workbench import (Model, CategoricalParameter,\n",
    "                           ScalarOutcome, IntegerParameter, RealParameter, save_results, load_results)\n",
    "from dike_model_function import DikeNetwork  # @UnresolvedImport\n",
    "from ema_workbench import (Model, MultiprocessingEvaluator, Policy, Scenario)\n",
    "\n",
    "from ema_workbench.em_framework.evaluators import perform_experiments\n",
    "from ema_workbench.em_framework.evaluators import LHS, SOBOL, MORRIS\n",
    "from ema_workbench.em_framework.optimization import EpsilonProgress, HyperVolume\n",
    "from ema_workbench.em_framework.samplers import sample_uncertainties\n",
    "from ema_workbench.analysis import feature_scoring, prim, dimensional_stacking, pairs_plotting\n",
    "from ema_workbench.em_framework.salib_samplers import get_SALib_problem\n",
    "import ema_workbench.em_framework.samplers\n",
    "from SALib.analyze import sobol\n",
    "from SALib.sample import saltelli, morris, fast_sampler\n",
    "import SALib.util.results\n",
    "from ema_workbench.analysis import regional_sa\n",
    "from numpy.lib import recfunctions as rf\n",
    "\n",
    "\n",
    "from ema_workbench.util import ema_logging\n",
    "import time\n",
    "from problem_formulation import get_model_for_problem_formulation\n",
    "\n",
    "ema_logging.log_to_stderr(ema_logging.INFO)\n",
    "\n",
    "def sum_over(*args):\n",
    "    return sum(args)"
   ]
  },
  {
   "cell_type": "markdown",
   "metadata": {},
   "source": [
    "## 2 | Create dike_model for the Rijkswaterstaat with problem formulation 2\n",
    "Problem formulation 2 consists of the outcomes of the combined costs and the expected annual deaths. "
   ]
  },
  {
   "cell_type": "code",
   "execution_count": 7,
   "metadata": {},
   "outputs": [],
   "source": [
    "#Get dike_model with problem formulation 2\n",
    "dike_model, planning_steps = get_model_for_problem_formulation(2)"
   ]
  },
  {
   "cell_type": "code",
   "execution_count": 8,
   "metadata": {},
   "outputs": [
    {
     "name": "stdout",
     "output_type": "stream",
     "text": [
      "ScalarOutcome('Expected Annual Damage', variable_name=['A.1_Expected Annual Damage 0', 'A.2_Expected Annual Damage 0', 'A.3_Expected Annual Damage 0', 'A.4_Expected Annual Damage 0', 'A.5_Expected Annual Damage 0', 'A.1_Expected Annual Damage 1', 'A.2_Expected Annual Damage 1', 'A.3_Expected Annual Damage 1', 'A.4_Expected Annual Damage 1', 'A.5_Expected Annual Damage 1', 'A.1_Expected Annual Damage 2', 'A.2_Expected Annual Damage 2', 'A.3_Expected Annual Damage 2', 'A.4_Expected Annual Damage 2', 'A.5_Expected Annual Damage 2'], function=<function sum_over at 0x000001F9423DF040>)\n",
      "ScalarOutcome('Dike Investment Costs', variable_name=['A.1_Dike Investment Costs 0', 'A.2_Dike Investment Costs 0', 'A.3_Dike Investment Costs 0', 'A.4_Dike Investment Costs 0', 'A.5_Dike Investment Costs 0', 'A.1_Dike Investment Costs 1', 'A.2_Dike Investment Costs 1', 'A.3_Dike Investment Costs 1', 'A.4_Dike Investment Costs 1', 'A.5_Dike Investment Costs 1', 'A.1_Dike Investment Costs 2', 'A.2_Dike Investment Costs 2', 'A.3_Dike Investment Costs 2', 'A.4_Dike Investment Costs 2', 'A.5_Dike Investment Costs 2'], function=<function sum_over at 0x000001F9423DF040>)\n",
      "ScalarOutcome('RfR Investment Costs', variable_name=['RfR Total Costs 0', 'RfR Total Costs 1', 'RfR Total Costs 2'], function=<function sum_over at 0x000001F9423DF040>)\n",
      "ScalarOutcome('Evacuation Costs', variable_name=['Expected Evacuation Costs 0', 'Expected Evacuation Costs 1', 'Expected Evacuation Costs 2'], function=<function sum_over at 0x000001F9423DF040>)\n",
      "ScalarOutcome('Expected Number of Deaths', variable_name=['A.1_Expected Number of Deaths 0', 'A.2_Expected Number of Deaths 0', 'A.3_Expected Number of Deaths 0', 'A.4_Expected Number of Deaths 0', 'A.5_Expected Number of Deaths 0', 'A.1_Expected Number of Deaths 1', 'A.2_Expected Number of Deaths 1', 'A.3_Expected Number of Deaths 1', 'A.4_Expected Number of Deaths 1', 'A.5_Expected Number of Deaths 1', 'A.1_Expected Number of Deaths 2', 'A.2_Expected Number of Deaths 2', 'A.3_Expected Number of Deaths 2', 'A.4_Expected Number of Deaths 2', 'A.5_Expected Number of Deaths 2'], function=<function sum_over at 0x000001F9423DF040>)\n"
     ]
    }
   ],
   "source": [
    "#to check what the model outcomes are. \n",
    "for outcome in dike_model.outcomes:\n",
    "    print(outcome)"
   ]
  },
  {
   "cell_type": "code",
   "execution_count": 9,
   "metadata": {},
   "outputs": [],
   "source": [
    "#Define the number of scenarios and the number of policies\n",
    "N_scen = 250\n",
    "policies = 50"
   ]
  },
  {
   "cell_type": "code",
   "execution_count": 10,
   "metadata": {},
   "outputs": [
    {
     "name": "stderr",
     "output_type": "stream",
     "text": [
      "[MainProcess/INFO] pool started\n",
      "[MainProcess/INFO] performing 250 scenarios * 50 policies * 1 model(s) = 12500 experiments\n",
      "[MainProcess/INFO] 1250 cases completed\n",
      "[MainProcess/INFO] 2500 cases completed\n",
      "[MainProcess/INFO] 3750 cases completed\n",
      "[MainProcess/INFO] 5000 cases completed\n",
      "[MainProcess/INFO] 6250 cases completed\n",
      "[MainProcess/INFO] 7500 cases completed\n",
      "[MainProcess/INFO] 8750 cases completed\n",
      "[MainProcess/INFO] 10000 cases completed\n",
      "[MainProcess/INFO] 11250 cases completed\n",
      "[MainProcess/INFO] 12500 cases completed\n",
      "[MainProcess/INFO] experiments finished\n",
      "[MainProcess/INFO] terminating pool\n"
     ]
    }
   ],
   "source": [
    "#Run the model using the EMA workbench.\n",
    "from ema_workbench import (MultiprocessingEvaluator, ema_logging,\n",
    "                           perform_experiments, SequentialEvaluator)\n",
    "ema_logging.log_to_stderr(ema_logging.INFO)\n",
    " \n",
    "with MultiprocessingEvaluator(dike_model) as evaluator:\n",
    "    results = evaluator.perform_experiments(N_scen, policies=policies)"
   ]
  },
  {
   "cell_type": "code",
   "execution_count": 11,
   "metadata": {},
   "outputs": [
    {
     "name": "stderr",
     "output_type": "stream",
     "text": [
      "[MainProcess/INFO] results saved successfully to C:\\Users\\kempe\\OneDrive\\Documents\\MSc Engineering and Policy Analysis\\EPA 1361 Model Based Decision making\\Model_based\\final assignment\\results\\open_exploration_rijks_PF2.tar.gz\n"
     ]
    }
   ],
   "source": [
    "save_results(results, './results/open_exploration_rijks_PF2.tar.gz')  "
   ]
  },
  {
   "cell_type": "code",
   "execution_count": null,
   "metadata": {},
   "outputs": [],
   "source": []
  }
 ],
 "metadata": {
  "kernelspec": {
   "display_name": "Python 3",
   "language": "python",
   "name": "python3"
  },
  "language_info": {
   "codemirror_mode": {
    "name": "ipython",
    "version": 3
   },
   "file_extension": ".py",
   "mimetype": "text/x-python",
   "name": "python",
   "nbconvert_exporter": "python",
   "pygments_lexer": "ipython3",
   "version": "3.8.3"
  }
 },
 "nbformat": 4,
 "nbformat_minor": 4
}
