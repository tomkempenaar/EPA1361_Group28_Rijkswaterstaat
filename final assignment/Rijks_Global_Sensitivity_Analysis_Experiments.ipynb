{
 "cells": [
  {
   "cell_type": "markdown",
   "metadata": {},
   "source": [
    "# Rijkswaterstaat Global Sensitivity Analysis experiments\n",
    "\n",
    "This notebook runs the experiments for a global sensitivity analysis for Rijkswaterstaat using SOBOL, as explained in the report.\n",
    "\n",
    "The outcomes of the experiments are saved in the result folder of the repository, and can be loaded in the Analysis notebook of the Sensitivity Analysis, called \"Rijks_Global_Sensitivity_Analysis_Analysis.ipynb\".\n",
    "\n",
    "***\n",
    "\n",
    "**Content**\n",
    "1. Importing packages\n",
    "2. Specify the model, run scenarios and save results\n",
    "\n",
    "***\n",
    "\n",
    "### 1 | Importing packages\n",
    "\n",
    "Start with importing the packages that are needed to complete the open exlporation. This includes more general packages and more specific packages from, for instance, the EMA workbench.\n",
    "\n",
    "***"
   ]
  },
  {
   "cell_type": "code",
   "execution_count": 1,
   "metadata": {},
   "outputs": [],
   "source": [
    "#Import necessary packages\n",
    "import numpy as np\n",
    "import scipy as sp\n",
    "import pandas as pd\n",
    "import matplotlib.pyplot as plt\n",
    "import seaborn as sns\n",
    "import networkx as nx\n",
    "import altair as alt"
   ]
  },
  {
   "cell_type": "code",
   "execution_count": 2,
   "metadata": {},
   "outputs": [],
   "source": [
    "#Import necessary packages, functions\n",
    "from ema_workbench import (Model, CategoricalParameter,\n",
    "                           ScalarOutcome, IntegerParameter, RealParameter, save_results, load_results)\n",
    "from dike_model_function import DikeNetwork  # @UnresolvedImport\n",
    "from ema_workbench import (Model, MultiprocessingEvaluator, Policy, Scenario)\n",
    "\n",
    "from ema_workbench.em_framework.evaluators import perform_experiments\n",
    "from ema_workbench.em_framework.evaluators import LHS, SOBOL, MORRIS\n",
    "from ema_workbench.em_framework.optimization import EpsilonProgress, HyperVolume\n",
    "from ema_workbench.em_framework.samplers import sample_uncertainties\n",
    "from ema_workbench.analysis import feature_scoring, prim, dimensional_stacking, pairs_plotting\n",
    "from ema_workbench.em_framework.salib_samplers import get_SALib_problem\n",
    "import ema_workbench.em_framework.samplers\n",
    "from SALib.analyze import sobol\n",
    "from SALib.sample import saltelli, morris, fast_sampler\n",
    "import SALib.util.results\n",
    "from ema_workbench.analysis import regional_sa\n",
    "from numpy.lib import recfunctions as rf\n",
    "\n",
    "\n",
    "from ema_workbench.util import ema_logging\n",
    "import time\n",
    "from problem_formulation import get_model_for_problem_formulation\n",
    "\n",
    "ema_logging.log_to_stderr(ema_logging.INFO)\n",
    "\n",
    "def sum_over(*args):\n",
    "    return sum(args)"
   ]
  },
  {
   "cell_type": "markdown",
   "metadata": {},
   "source": [
    "### 2 | Specify the model, run scenarios and save results\n",
    "\n",
    "***"
   ]
  },
  {
   "cell_type": "code",
   "execution_count": 3,
   "metadata": {},
   "outputs": [],
   "source": [
    "#Specify the model\n",
    "dike_model, planning_steps = get_model_for_problem_formulation(3)"
   ]
  },
  {
   "cell_type": "code",
   "execution_count": 4,
   "metadata": {},
   "outputs": [],
   "source": [
    "#Define the number of scenarios and the number of policies\n",
    "N_scen =10 \n",
    "policies= 5"
   ]
  },
  {
   "cell_type": "code",
   "execution_count": 5,
   "metadata": {},
   "outputs": [
    {
     "name": "stderr",
     "output_type": "stream",
     "text": [
      "[MainProcess/INFO] pool started\n",
      "C:\\Users\\olivi\\anaconda3\\lib\\site-packages\\SALib\\sample\\saltelli.py:52: FutureWarning: \n",
      "        Convergence properties of the Sobol' sequence is only valid if `N` = 2^n.\n",
      "        SALib will continue on, but results may have issues.\n",
      "        In future, this will raise an error.\n",
      "        \n",
      "  warnings.warn(msg, FutureWarning)\n",
      "[MainProcess/INFO] performing 400 scenarios * 5 policies * 1 model(s) = 2000 experiments\n",
      "[MainProcess/INFO] 200 cases completed\n",
      "[MainProcess/INFO] 400 cases completed\n",
      "[MainProcess/INFO] 600 cases completed\n",
      "[MainProcess/INFO] 800 cases completed\n",
      "[MainProcess/INFO] 1000 cases completed\n",
      "[MainProcess/INFO] 1200 cases completed\n",
      "[MainProcess/INFO] 1400 cases completed\n",
      "[MainProcess/INFO] 1600 cases completed\n",
      "[MainProcess/INFO] 1800 cases completed\n",
      "[MainProcess/INFO] 2000 cases completed\n",
      "[MainProcess/INFO] experiments finished\n",
      "[MainProcess/INFO] terminating pool\n"
     ]
    }
   ],
   "source": [
    "with MultiprocessingEvaluator(dike_model) as evaluator:\n",
    "    sobol_results = evaluator.perform_experiments(N_scen, policies=policies,\n",
    "                                                         uncertainty_sampling=SOBOL)"
   ]
  },
  {
   "cell_type": "code",
   "execution_count": 6,
   "metadata": {},
   "outputs": [
    {
     "name": "stderr",
     "output_type": "stream",
     "text": [
      "[MainProcess/INFO] results saved successfully to C:\\Users\\olivi\\Documents\\GitHub\\Model_based\\final assignment\\results\\Global_Sensitivity_Analysis_SOBOL_rijks.tar.gz\n"
     ]
    }
   ],
   "source": [
    "#The results of the conducted experiments are saved in the results folder\n",
    "save_results(sobol_results, './results/Global_Sensitivity_Analysis_SOBOL_rijks.tar.gz')"
   ]
  }
 ],
 "metadata": {
  "kernelspec": {
   "display_name": "Python 3",
   "language": "python",
   "name": "python3"
  },
  "language_info": {
   "codemirror_mode": {
    "name": "ipython",
    "version": 3
   },
   "file_extension": ".py",
   "mimetype": "text/x-python",
   "name": "python",
   "nbconvert_exporter": "python",
   "pygments_lexer": "ipython3",
   "version": "3.8.3"
  }
 },
 "nbformat": 4,
 "nbformat_minor": 4
}
